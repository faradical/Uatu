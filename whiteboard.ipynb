{
 "cells": [
  {
   "cell_type": "code",
   "execution_count": 27,
   "metadata": {},
   "outputs": [],
   "source": [
    "# IMPORT DEPENDENCIES\n",
    "from selenium import webdriver\n",
    "from bs4 import BeautifulSoup as BS\n",
    "import pandas as pd\n",
    "import json"
   ]
  },
  {
   "cell_type": "markdown",
   "metadata": {},
   "source": [
    "# Web Scraping Notes\n",
    "For each state in states, pull relevant land data and save it to a custom mongo collection for that state. Do to the large amount of available listing, cap them to 100 per state. There are 25 per page, so simply visit 4 pages per state. \\\n",
    "\\\n",
    "Relevant data is:\n",
    "* Address\n",
    "    * Street number\n",
    "    * City\n",
    "    * State\n",
    "    * zipcode\n",
    "* Price\n",
    "* Acreage\n",
    "* Price per acre\n",
    "* URL\n",
    "\n",
    "### URL pattern = https://www.landwatch.com/{state}-land-for-sale/price-under-100000/acres-over-1/sort-price-low-high/page-{page_number}\n",
    "### Listing class = d99b8 _7c2d9\n",
    "### Price class = b04f6\n"
   ]
  },
  {
   "cell_type": "code",
   "execution_count": null,
   "metadata": {},
   "outputs": [],
   "source": []
  },
  {
   "cell_type": "markdown",
   "metadata": {},
   "source": [
    "# Testing with a single state"
   ]
  },
  {
   "cell_type": "code",
   "execution_count": 65,
   "metadata": {},
   "outputs": [],
   "source": [
    "driver = webdriver.Firefox()"
   ]
  },
  {
   "cell_type": "code",
   "execution_count": 66,
   "metadata": {},
   "outputs": [
    {
     "name": "stdout",
     "output_type": "stream",
     "text": [
      "1\n",
      "2\n",
      "3\n",
      "4\n"
     ]
    }
   ],
   "source": [
    "for page_num in range(1,5):\n",
    "    print(page_num)"
   ]
  },
  {
   "cell_type": "code",
   "execution_count": 74,
   "metadata": {},
   "outputs": [
    {
     "name": "stdout",
     "output_type": "stream",
     "text": [
      "Retrieved 100 for georgia.\n"
     ]
    },
    {
     "data": {
      "text/html": [
       "<div>\n",
       "<style scoped>\n",
       "    .dataframe tbody tr th:only-of-type {\n",
       "        vertical-align: middle;\n",
       "    }\n",
       "\n",
       "    .dataframe tbody tr th {\n",
       "        vertical-align: top;\n",
       "    }\n",
       "\n",
       "    .dataframe thead th {\n",
       "        text-align: right;\n",
       "    }\n",
       "</style>\n",
       "<table border=\"1\" class=\"dataframe\">\n",
       "  <thead>\n",
       "    <tr style=\"text-align: right;\">\n",
       "      <th></th>\n",
       "      <th>address</th>\n",
       "      <th>city</th>\n",
       "      <th>state</th>\n",
       "      <th>zipcode</th>\n",
       "      <th>price</th>\n",
       "      <th>size</th>\n",
       "      <th>price/acre</th>\n",
       "      <th>link</th>\n",
       "    </tr>\n",
       "  </thead>\n",
       "  <tbody>\n",
       "    <tr>\n",
       "      <th>0</th>\n",
       "      <td>Lot 105 Whitlow Lane</td>\n",
       "      <td>Lincolnton</td>\n",
       "      <td>georgia</td>\n",
       "      <td>30817</td>\n",
       "      <td>6800</td>\n",
       "      <td>1.84</td>\n",
       "      <td>3695.652174</td>\n",
       "      <td>https://www.landwatch.com/lincoln-county-count...</td>\n",
       "    </tr>\n",
       "    <tr>\n",
       "      <th>1</th>\n",
       "      <td>796 Woodbine Ln</td>\n",
       "      <td>Ranger</td>\n",
       "      <td>georgia</td>\n",
       "      <td>30630</td>\n",
       "      <td>9200</td>\n",
       "      <td>2.55</td>\n",
       "      <td>3607.843137</td>\n",
       "      <td>https://www.landwatch.com/gordon-county-county...</td>\n",
       "    </tr>\n",
       "    <tr>\n",
       "      <th>2</th>\n",
       "      <td>Indian Road</td>\n",
       "      <td>Lincolnton</td>\n",
       "      <td>georgia</td>\n",
       "      <td>30817</td>\n",
       "      <td>10000</td>\n",
       "      <td>1.18</td>\n",
       "      <td>8474.576271</td>\n",
       "      <td>https://www.landwatch.com/lincoln-county-count...</td>\n",
       "    </tr>\n",
       "    <tr>\n",
       "      <th>3</th>\n",
       "      <td>Indian Road</td>\n",
       "      <td>Lincolnton</td>\n",
       "      <td>georgia</td>\n",
       "      <td>30817</td>\n",
       "      <td>10000</td>\n",
       "      <td>1.22</td>\n",
       "      <td>8196.721311</td>\n",
       "      <td>https://www.landwatch.com/lincoln-county-count...</td>\n",
       "    </tr>\n",
       "    <tr>\n",
       "      <th>4</th>\n",
       "      <td>0 Pete Davis Rd</td>\n",
       "      <td>Newnan</td>\n",
       "      <td>georgia</td>\n",
       "      <td>30263</td>\n",
       "      <td>11950</td>\n",
       "      <td>1.00</td>\n",
       "      <td>11950.000000</td>\n",
       "      <td>https://www.landwatch.com/coweta-county-county...</td>\n",
       "    </tr>\n",
       "  </tbody>\n",
       "</table>\n",
       "</div>"
      ],
      "text/plain": [
       "                address        city    state zipcode  price  size  \\\n",
       "0  Lot 105 Whitlow Lane  Lincolnton  georgia   30817   6800  1.84   \n",
       "1       796 Woodbine Ln      Ranger  georgia   30630   9200  2.55   \n",
       "2           Indian Road  Lincolnton  georgia   30817  10000  1.18   \n",
       "3           Indian Road  Lincolnton  georgia   30817  10000  1.22   \n",
       "4       0 Pete Davis Rd      Newnan  georgia   30263  11950  1.00   \n",
       "\n",
       "     price/acre                                               link  \n",
       "0   3695.652174  https://www.landwatch.com/lincoln-county-count...  \n",
       "1   3607.843137  https://www.landwatch.com/gordon-county-county...  \n",
       "2   8474.576271  https://www.landwatch.com/lincoln-county-count...  \n",
       "3   8196.721311  https://www.landwatch.com/lincoln-county-count...  \n",
       "4  11950.000000  https://www.landwatch.com/coweta-county-county...  "
      ]
     },
     "execution_count": 74,
     "metadata": {},
     "output_type": "execute_result"
    }
   ],
   "source": [
    "# Select single state\n",
    "state = 'georgia'\n",
    "\n",
    "#Initialize listings list\n",
    "listings = []\n",
    "\n",
    "# Iterate over desired number of pages\n",
    "for page_num in range(1,5):\n",
    "    \n",
    "    # Build URL\n",
    "    url = f\"https://www.landwatch.com/{state}-land-for-sale/price-under-100000/acres-over-1/sort-price-low-high/page-{page_num}\"\n",
    "    \n",
    "    # Visit Page\n",
    "    driver.get(url)\n",
    "    \n",
    "    # Create soup object to simply search\n",
    "    body = driver.find_element_by_tag_name(\"body\")\n",
    "    body_html = body.get_attribute(\"innerHTML\")\n",
    "    soup = BS(body_html)\n",
    "    \n",
    "    # Get listing elements\n",
    "    li_elems = soup.find_all(\"div\", class_=\"d99b8 _7c2d9\")\n",
    "    for li in li_elems:\n",
    "        \n",
    "        # Get address info from script tag\n",
    "        script_dict = json.loads(li.find(\"script\").text)\n",
    "        # Address info\n",
    "        address = script_dict['address']['streetAddress']\n",
    "        city = script_dict['address']['addressLocality']\n",
    "        zipcode = script_dict['address']['postalCode']\n",
    "        \n",
    "        # Get the link URL\n",
    "        link = \"https://www.landwatch.com\" + li.a['href']\n",
    "        \n",
    "        # Retrieve the price\n",
    "        price_str = li.find(\"div\", class_=\"b04f6\").text\n",
    "        \n",
    "        # Retrieve the acreage\n",
    "        size_str = li.span.text.split(\" acres\")[0]\n",
    "        \n",
    "        # Getting the acreage and price can be a little finicky at times. \n",
    "        # Since I am only interested in listing where I can successfully retrieve these, \n",
    "        # the rest of the code is in a try/except statement.\n",
    "        try:\n",
    "            # Correct price formatting\n",
    "            price = int(price_str.replace(\"$\",\"\").replace(\",\",\"\"))\n",
    "\n",
    "            # Correct size formatting\n",
    "            size = float(size_str.replace(\",\",\"\"))\n",
    "\n",
    "            # Append data to listings\n",
    "            listing = {\n",
    "                \"address\": address,\n",
    "                \"city\": city,\n",
    "                \"state\": state,\n",
    "                \"zipcode\": zipcode,\n",
    "                \"price\": price,\n",
    "                \"size\": size,\n",
    "                \"price/acre\": price/size,\n",
    "                \"link\": link\n",
    "            }\n",
    "            listings.append(listing)\n",
    "        except:\n",
    "            pass\n",
    "        \n",
    "listings_df = pd.DataFrame(listings)\n",
    "print(f'Retrieved {len(listings_df)} for {state}.')\n",
    "listings_df.head()"
   ]
  },
  {
   "cell_type": "code",
   "execution_count": 69,
   "metadata": {},
   "outputs": [
    {
     "data": {
      "text/plain": [
       "'TN'"
      ]
     },
     "execution_count": 69,
     "metadata": {},
     "output_type": "execute_result"
    }
   ],
   "source": [
    "listings_df"
   ]
  },
  {
   "cell_type": "code",
   "execution_count": 80,
   "metadata": {},
   "outputs": [
    {
     "name": "stdout",
     "output_type": "stream",
     "text": [
      "222 Creekside Trail Forsyth GA 31029\n",
      "0 Hawkeye Rabun Gap GA 30568\n",
      "Dean Still Road Blackshear GA 31516\n",
      "1008 Fleming Lake Court Lincolnton GA 30817\n",
      "0 Northwood Trail Lot 37 Dudley GA 31022\n",
      "Modoc Road Swainsboro GA 30401\n",
      "Modoc Road Swainsboro GA 30401\n",
      " Modoc GA 30401\n",
      " Summertown GA 30401\n",
      "Ben Hall Lake Rd East Dublin GA 31027\n",
      "1235 Winding Ridge Drive Lincolnton GA 30817\n",
      "1229 Winding Ridge Drive Lincolnton GA 30817\n",
      "1217 Winding Ridge Drive Lincolnton GA 30817\n",
      "1223 Winding Ridge Drive Lincolnton GA 30817\n",
      "Marvin McEwen Rd Jackson GA 30233\n",
      "0 Pinnacle Rd Clayton GA 30525\n",
      " Rising Fawn GA 30738\n",
      "122 Creekside Trail Forsyth GA 31029\n",
      "0 Orchard Rd Summerville GA 30747\n",
      " Hiawassee GA 30546\n",
      "Coleman Chapel Bartow GA 30413\n",
      "Hwy 25 Portal GA 30450\n",
      "0 Fair Mountain Rabun Gap GA 30568\n",
      "610 S Bell Street Harlem GA 30814\n",
      "212 Northwood Trail Dudley GA 31022\n"
     ]
    }
   ],
   "source": [
    "for li in li_elems:\n",
    "#     print(li)\n",
    "#     print(li.find(\"script\"))\n",
    "#     print(li.find(\"script\").text)\n",
    "    \n",
    "    script_dict = json.loads(li.find(\"script\").text)\n",
    "    address = script_dict['address']['streetAddress']\n",
    "    city = script_dict['address']['addressLocality']\n",
    "    state = script_dict['address']['addressRegion']\n",
    "    zipcode = script_dict['address']['postalCode']\n",
    "    print(address, city, state, zipcode)"
   ]
  },
  {
   "cell_type": "code",
   "execution_count": 75,
   "metadata": {},
   "outputs": [],
   "source": [
    "driver.quit()"
   ]
  },
  {
   "cell_type": "code",
   "execution_count": 62,
   "metadata": {},
   "outputs": [],
   "source": [
    "# Getting a list of states to use in script\n",
    "tables = pd.read_html('https://simple.wikipedia.org/wiki/List_of_U.S._states')\n",
    "state_col = tables[0].columns[0]\n",
    "list(tables[0][state_col])"
   ]
  },
  {
   "cell_type": "code",
   "execution_count": 62,
   "metadata": {},
   "outputs": [
    {
     "data": {
      "text/plain": [
       "50"
      ]
     },
     "execution_count": 62,
     "metadata": {},
     "output_type": "execute_result"
    }
   ],
   "source": [
    "states = ['Alabama',\n",
    "    'Alaska',\n",
    "    'Arizona',\n",
    "    'Arkansas',\n",
    "    'California',\n",
    "    'Colorado',\n",
    "    'Connecticut',\n",
    "    'Delaware',\n",
    "    'Florida',\n",
    "    'Georgia',\n",
    "    'Hawaii',\n",
    "    'Idaho',\n",
    "    'Illinois',\n",
    "    'Indiana',\n",
    "    'Iowa',\n",
    "    'Kansas',\n",
    "    'Kentucky',\n",
    "    'Louisiana',\n",
    "    'Maine',\n",
    "    'Maryland',\n",
    "    'Massachusetts',\n",
    "    'Michigan',\n",
    "    'Minnesota',\n",
    "    'Mississippi',\n",
    "    'Missouri',\n",
    "    'Montana',\n",
    "    'Nebraska',\n",
    "    'Nevada',\n",
    "    'New Hampshire',\n",
    "    'New Jersey',\n",
    "    'New Mexico',\n",
    "    'New York',\n",
    "    'North Carolina',\n",
    "    'North Dakota',\n",
    "    'Ohio',\n",
    "    'Oklahoma',\n",
    "    'Oregon',\n",
    "    'Pennsylvania',\n",
    "    'Rhode Island',\n",
    "    'South Carolina',\n",
    "    'South Dakota',\n",
    "    'Tennessee',\n",
    "    'Texas',\n",
    "    'Utah',\n",
    "    'Vermont',\n",
    "    'Virginia',\n",
    "    'Washington',\n",
    "    'West Virginia',\n",
    "    'Wisconsin',\n",
    "    'Wyoming']\n",
    "\n",
    "len(states)"
   ]
  },
  {
   "cell_type": "code",
   "execution_count": 81,
   "metadata": {},
   "outputs": [],
   "source": [
    "from pymongo import MongoClient as MC"
   ]
  },
  {
   "cell_type": "code",
   "execution_count": 82,
   "metadata": {},
   "outputs": [],
   "source": [
    "client = MC()\n",
    "DB = client.real_estate"
   ]
  },
  {
   "cell_type": "code",
   "execution_count": 111,
   "metadata": {},
   "outputs": [
    {
     "data": {
      "text/plain": [
       "'Texas'"
      ]
     },
     "execution_count": 111,
     "metadata": {},
     "output_type": "execute_result"
    }
   ],
   "source": [
    "states = []\n",
    "for coll in DB.collection_names():\n",
    "    df = pd.DataFrame(DB[coll].find())\n",
    "    median = df['price/acre'].median()\n",
    "    states.append({\n",
    "        \"state\": coll,\n",
    "        \"median\": median\n",
    "    })\n",
    "df = pd.DataFrame(states)\n",
    "df\n",
    "\n",
    "minimum = df['median'].min()\n",
    "\n",
    "state = df['state'].loc[df['median'] == minimum]\n",
    "list(state)[0]"
   ]
  },
  {
   "cell_type": "code",
   "execution_count": 105,
   "metadata": {},
   "outputs": [
    {
     "data": {
      "text/plain": [
       "1    Texas\n",
       "Name: state, dtype: object"
      ]
     },
     "execution_count": 105,
     "metadata": {},
     "output_type": "execute_result"
    }
   ],
   "source": [
    "df[df['median'] == minimum]"
   ]
  },
  {
   "cell_type": "code",
   "execution_count": 86,
   "metadata": {},
   "outputs": [
    {
     "data": {
      "text/plain": [
       "['Tennessee', 'Texas', 'Georgia', 'California']"
      ]
     },
     "execution_count": 86,
     "metadata": {},
     "output_type": "execute_result"
    }
   ],
   "source": [
    "DB.collection_names()"
   ]
  },
  {
   "cell_type": "code",
   "execution_count": 93,
   "metadata": {},
   "outputs": [
    {
     "data": {
      "text/plain": [
       "count      100.000000\n",
       "mean      5306.816552\n",
       "std       5970.541975\n",
       "min        266.633333\n",
       "25%        768.843914\n",
       "50%       1820.048039\n",
       "75%      10167.287978\n",
       "max      20000.000000\n",
       "Name: price/acre, dtype: float64"
      ]
     },
     "execution_count": 93,
     "metadata": {},
     "output_type": "execute_result"
    }
   ],
   "source": [
    "texas_df = pd.DataFrame(DB.Texas.find())\n",
    "texas_df['price/acre'].describe()"
   ]
  },
  {
   "cell_type": "code",
   "execution_count": 95,
   "metadata": {},
   "outputs": [
    {
     "data": {
      "text/plain": [
       "1820.0480392156865"
      ]
     },
     "execution_count": 95,
     "metadata": {},
     "output_type": "execute_result"
    }
   ],
   "source": [
    "texas_df['price/acre'].median()"
   ]
  },
  {
   "cell_type": "code",
   "execution_count": null,
   "metadata": {},
   "outputs": [],
   "source": []
  }
 ],
 "metadata": {
  "kernelspec": {
   "display_name": "Python 3",
   "language": "python",
   "name": "python3"
  },
  "language_info": {
   "codemirror_mode": {
    "name": "ipython",
    "version": 3
   },
   "file_extension": ".py",
   "mimetype": "text/x-python",
   "name": "python",
   "nbconvert_exporter": "python",
   "pygments_lexer": "ipython3",
   "version": "3.7.3"
  }
 },
 "nbformat": 4,
 "nbformat_minor": 4
}
